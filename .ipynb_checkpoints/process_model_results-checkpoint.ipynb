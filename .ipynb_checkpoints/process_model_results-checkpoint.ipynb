{
 "cells": [
  {
   "cell_type": "markdown",
   "id": "86f4ac95-988f-4dcc-ae26-a65e883c89a5",
   "metadata": {},
   "source": [
    "# READ MASS BALANCE DATA FROM OGGM, PYGEM, GLOGEM"
   ]
  },
  {
   "cell_type": "code",
   "execution_count": null,
   "id": "76976f5b-4a86-4163-8372-ec8c7982de59",
   "metadata": {},
   "outputs": [],
   "source": []
  }
 ],
 "metadata": {
  "kernelspec": {
   "display_name": "Python 3 (ipykernel)",
   "language": "python",
   "name": "python3"
  },
  "language_info": {
   "codemirror_mode": {
    "name": "ipython",
    "version": 3
   },
   "file_extension": ".py",
   "mimetype": "text/x-python",
   "name": "python",
   "nbconvert_exporter": "python",
   "pygments_lexer": "ipython3",
   "version": "3.10.9"
  }
 },
 "nbformat": 4,
 "nbformat_minor": 5
}
