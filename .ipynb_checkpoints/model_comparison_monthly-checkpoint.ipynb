{
 "cells": [
  {
   "cell_type": "markdown",
   "id": "cd02b2b1-963b-4820-aeb0-3dcf76c1bc92",
   "metadata": {},
   "source": [
    "# Comparison of ML model and OGGM, PYGEM, GLOGEM on monthly glacier-wide mass balance"
   ]
  },
  {
   "cell_type": "code",
   "execution_count": 1,
   "id": "81848433-d003-49f9-908b-0a96bd0117c7",
   "metadata": {},
   "outputs": [],
   "source": [
    "# Import libraries\n",
    "import joblib\n",
    "import numpy as np\n",
    "import pandas as pd\n",
    "import xgboost as xgb\n",
    "from matplotlib import pyplot as plt\n",
    "from tqdm import tqdm\n",
    "from itertools import product\n",
    "import dill as pickle\n",
    "import xarray as xr\n",
    "import seaborn as sns\n",
    "from scipy.stats import gaussian_kde\n",
    "\n",
    "import seaborn as sns\n",
    "import matplotlib.lines as mlines\n",
    "from sklearn.metrics import mean_squared_error, mean_absolute_error, r2_score"
   ]
  },
  {
   "cell_type": "code",
   "execution_count": null,
   "id": "b4c26b32-6e10-49e7-8a93-6fad026bfa3c",
   "metadata": {},
   "outputs": [],
   "source": []
  }
 ],
 "metadata": {
  "kernelspec": {
   "display_name": "Python 3 (ipykernel)",
   "language": "python",
   "name": "python3"
  },
  "language_info": {
   "codemirror_mode": {
    "name": "ipython",
    "version": 3
   },
   "file_extension": ".py",
   "mimetype": "text/x-python",
   "name": "python",
   "nbconvert_exporter": "python",
   "pygments_lexer": "ipython3",
   "version": "3.10.9"
  }
 },
 "nbformat": 4,
 "nbformat_minor": 5
}
