{
 "cells": [
  {
   "cell_type": "code",
   "execution_count": 1,
   "id": "9df0b1b1-407f-458a-b401-2cc6eef40286",
   "metadata": {
    "tags": []
   },
   "outputs": [
    {
     "name": "stderr",
     "output_type": "stream",
     "text": [
      "2023-04-18 12:42:04: oggm.cfg: Reading default parameters from the OGGM `params.cfg` configuration file.\n",
      "2023-04-18 12:42:04: oggm.cfg: Multiprocessing switched OFF according to the parameter file.\n",
      "2023-04-18 12:42:04: oggm.cfg: Multiprocessing: using all available processors (N=4)\n",
      "|  -1.0 B Elapsed Time: 0:00:15                                                \n",
      "2023-04-18 12:42:29: oggm.cfg: PARAMS['border'] changed from `80` to `10`.\n",
      "2023-04-18 12:42:29: oggm.cfg: Multiprocessing switched ON after user settings.\n",
      "2023-04-18 12:42:29: oggm.cfg: PARAMS['continue_on_error'] changed from `False` to `True`.\n"
     ]
    }
   ],
   "source": [
    "import xarray as xr\n",
    "import numpy as np\n",
    "import rioxarray\n",
    "import pandas as pd\n",
    "import geopandas as gpd\n",
    "import matplotlib.pyplot as plt\n",
    "import oggm\n",
    "from oggm import cfg, utils, workflow, tasks, graphics\n",
    "from oggm import entity_task, global_tasks\n",
    "from oggm.utils import compile_climate_input\n",
    "from oggm.core import gis\n",
    "from oggm.utils import DEM_SOURCES\n",
    "from pathlib import Path\n",
    "import os\n",
    "import logging\n",
    "from datetime import datetime, timedelta\n",
    "\n",
    "pd.set_option('display.max_columns',None)\n",
    "\n",
    "cfg.initialize(logging_level='WARNING')\n",
    "cfg.PARAMS['border'] = 10\n",
    "cfg.PARAMS['use_multiprocessing'] = True \n",
    "cfg.PARAMS['continue_on_error'] = True\n",
    "# Module logger\n",
    "log = logging.getLogger('.'.join(__name__.split('.')[:-1]))"
   ]
  },
  {
   "cell_type": "code",
   "execution_count": null,
   "id": "24789e1f-2251-4250-b6e3-4dc99d3a184f",
   "metadata": {},
   "outputs": [],
   "source": []
  }
 ],
 "metadata": {
  "kernelspec": {
   "display_name": "IPython - oggm_env",
   "language": "python",
   "name": "oggm_env"
  },
  "language_info": {
   "codemirror_mode": {
    "name": "ipython",
    "version": 3
   },
   "file_extension": ".py",
   "mimetype": "text/x-python",
   "name": "python",
   "nbconvert_exporter": "python",
   "pygments_lexer": "ipython3",
   "version": "3.11.3"
  }
 },
 "nbformat": 4,
 "nbformat_minor": 5
}
