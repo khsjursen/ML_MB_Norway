{
 "cells": [
  {
   "cell_type": "markdown",
   "id": "8b95b584-c94e-43bb-8b94-ad2e92c84e28",
   "metadata": {},
   "source": [
    "# Comparison of ML model and OGGM, PYGEM, GLOGEM on glacier-wide mass balance"
   ]
  },
  {
   "cell_type": "code",
   "execution_count": null,
   "id": "4b3c8741-d06c-419f-82f0-936a5e93bef3",
   "metadata": {},
   "outputs": [],
   "source": [
    "# Import libraries\n",
    "import joblib\n",
    "import numpy as np\n",
    "import pandas as pd\n",
    "import xgboost as xgb\n",
    "from matplotlib import pyplot as plt\n",
    "from tqdm import tqdm\n",
    "from itertools import product\n",
    "import dill as pickle\n",
    "import xarray as xr\n",
    "import seaborn as sns\n",
    "from scipy.stats import gaussian_kde\n",
    "\n",
    "import matplotlib.lines as mlines\n",
    "from sklearn.metrics import mean_squared_error, mean_absolute_error, r2_score\n",
    "\n",
    "from sklearn.model_selection import KFold\n",
    "from sklearn.model_selection import GroupKFold\n",
    "from sklearn.metrics import mean_squared_error\n",
    "from sklearn.model_selection import GridSearchCV\n",
    "from sklearn.model_selection import cross_val_score\n",
    "\n",
    "from plotting_functions import plot_prediction_per_fold\n",
    "from plotting_functions import plot_prediction\n",
    "from plotting_functions import plot_gsearch_results"
   ]
  }
 ],
 "metadata": {
  "kernelspec": {
   "display_name": "Python 3 (ipykernel)",
   "language": "python",
   "name": "python3"
  },
  "language_info": {
   "codemirror_mode": {
    "name": "ipython",
    "version": 3
   },
   "file_extension": ".py",
   "mimetype": "text/x-python",
   "name": "python",
   "nbconvert_exporter": "python",
   "pygments_lexer": "ipython3",
   "version": "3.10.9"
  }
 },
 "nbformat": 4,
 "nbformat_minor": 5
}
