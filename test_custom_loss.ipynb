{
 "cells": [
  {
   "cell_type": "code",
   "execution_count": null,
   "id": "1c46a3a7-a2fc-4c39-9829-31809943d519",
   "metadata": {},
   "outputs": [],
   "source": [
    "# Instead of original training dataframe, we need to make a table of\n",
    "# with climate data as columns and individual months for individual glaciers\n",
    "# as rows. In training we need to batch the months to match summer, winter and\n",
    "# annual mass balance, aggregate the results for each month and evaluate it against\n",
    "# the summer, winter and annual mass balance using a custom loss function. We can shuffle the batches, \n",
    "# but we need to keep the respective batches themselves in the correct order. "
   ]
  },
  {
   "cell_type": "code",
   "execution_count": 2,
   "id": "0c5416cf-45b2-4fc7-9b12-883901df2681",
   "metadata": {},
   "outputs": [],
   "source": [
    "import numpy as np\n",
    "import pandas as pd\n",
    "import xgboost as xgb"
   ]
  },
  {
   "cell_type": "code",
   "execution_count": 8,
   "id": "e78b71d1-3596-4b16-a8dc-68d9448bd929",
   "metadata": {},
   "outputs": [],
   "source": [
    "# Create dummy feature dataset\n",
    "def create_feature_dataset(n_rows):\n",
    "\n",
    "    np.random.seed(0)\n",
    "\n",
    "    data = {\n",
    "        \"t2m\": np.random.uniform(-5, 5, n_rows),   # Temperature between -5 and 5\n",
    "        \"tp\": np.random.uniform(0, 100, n_rows),   # Total precipitation between 0 and 100\n",
    "        \"fal\": np.random.uniform(0, 1, n_rows),    # Albedo between 0 and 1\n",
    "        \"ssr\": np.random.uniform(0, 100, n_rows)   # Solar radiation between 0 and 100\n",
    "    }\n",
    "\n",
    "    # Create the DataFrame\n",
    "    df = pd.DataFrame(data)\n",
    "\n",
    "    return df\n",
    "\n",
    "num_rows = 600\n",
    "    \n",
    "# Using the function to create the dataset\n",
    "df_features = create_feature_dataset(num_rows)"
   ]
  },
  {
   "cell_type": "code",
   "execution_count": 7,
   "id": "aa7216b0-586c-4784-ac9b-23a37b391fcf",
   "metadata": {},
   "outputs": [],
   "source": [
    "X_values = df_features.values"
   ]
  },
  {
   "cell_type": "code",
   "execution_count": 23,
   "id": "d416f923-45f1-46e4-8280-2d15276406d9",
   "metadata": {},
   "outputs": [
    {
     "name": "stdout",
     "output_type": "stream",
     "text": [
      "[-3.5405211   1.32765641  2.92555167  2.7333222  -4.07720402  1.85512719\n",
      "  2.16023921  3.62166267  0.08044339 -0.38906     4.65116325  2.96512256\n",
      "  0.58730991 -1.69382929  3.45237996 -0.44563611 -4.07314808 -0.45095727\n",
      "  3.71968396 -0.51717853 -4.85650852  1.11485324  4.95830003  3.17248584\n",
      "  1.17237947  4.14398887  3.13581682 -0.01360647  0.91220285  2.31292809\n",
      "  3.46426164 -4.41823598  2.74803857 -0.5249656   1.6079856   2.64633011\n",
      "  0.39501925 -3.41485149 -0.90473168 -4.23127006  1.89300691  4.53706182\n",
      "  2.95252812 -1.10213577  0.84291496 -1.95799324  0.410456   -1.99273094\n",
      "  2.38324757 -2.40658492  4.6402039   1.61948732 -4.31222152 -4.89222236\n",
      "  4.97046344 -2.79494422 -1.87437252 -2.91585986  4.28101772  1.5201286\n",
      "  0.04386324  0.57650814 -1.82127153  1.14175002 -0.80399637 -3.00771854\n",
      "  1.566051   -1.26159431  2.85066379 -0.84605042  0.08271375  2.87466479\n",
      " -0.52121907  4.66221135  2.93028667  3.26430405  4.53920467 -1.11149371\n",
      "  0.80080264  1.93591741  1.73458484  4.52936795 -2.11651366 -2.08638471\n",
      "  4.18004402  2.99305642 -2.96643376  0.70046878  2.45763734 -1.4696361\n",
      " -0.65617749  0.75396612 -0.32891442  2.5304239  -4.94061246 -0.65367476\n",
      " -1.62418625  1.09164053  2.75958442 -4.23854838]\n",
      "(100,)\n"
     ]
    }
   ],
   "source": [
    "months = 6\n",
    "num_rows_y = int(num_rows/months)\n",
    "\n",
    "y_values = np.random.uniform(-5, 5, num_rows_y)\n",
    "print(y_values)\n",
    "print(y_values.shape)"
   ]
  },
  {
   "cell_type": "code",
   "execution_count": 24,
   "id": "4c1dbe8e-af7f-4b1c-b144-f4e077cf54f6",
   "metadata": {},
   "outputs": [],
   "source": [
    "#np.tile(Y_values,(6,1))\n",
    "y_values_rep = np.repeat(y_values, 6)"
   ]
  },
  {
   "cell_type": "code",
   "execution_count": 14,
   "id": "7844c6ca-a8c4-47a0-a700-88f8e88e2fa1",
   "metadata": {},
   "outputs": [],
   "source": [
    "#dtrain = xgb.DMatrix(X_values, label=Y_values)\n"
   ]
  },
  {
   "cell_type": "code",
   "execution_count": 22,
   "id": "25890aeb-1248-4498-916c-ac5278f5c396",
   "metadata": {},
   "outputs": [],
   "source": [
    "#y_true = dtrain.get_label()\n",
    "#y_true_seasonal = y_true.reshape(-1,6)\n",
    "#print(y_true_seasonal)\n",
    "#y_true_agg = np.mean(y_true_seasonal, axis=1)\n",
    "#print(y_true_agg)\n",
    "#print(y_true_agg.shape)"
   ]
  },
  {
   "cell_type": "code",
   "execution_count": 60,
   "id": "adc66c16-1ce3-4887-9194-18631851dd53",
   "metadata": {},
   "outputs": [],
   "source": [
    "# When defining a custom loss function this automatically \n",
    "# takes in arguments preds (predictions) and dtrain\n",
    "def seasonal_mse(preds, dtrain):\n",
    "    \"\"\"\n",
    "    Custom Mean Squared Error loss for seasonal data.\n",
    "    \"\"\"\n",
    "    # Get the true values\n",
    "    y_true = dtrain.get_label()\n",
    "\n",
    "    # Assuming 6-month seasons, reshape predictions and true values\n",
    "    preds_seasonal = preds.reshape(-1, 6)\n",
    "    y_true_seasonal = y_true.reshape(-1, 6)\n",
    "\n",
    "    # Aggregate (e.g., sum or average) predictions and true values over the season\n",
    "    preds_agg = np.sum(preds_seasonal, axis=1)\n",
    "    y_true_agg = np.mean(y_true_seasonal, axis=1)\n",
    "\n",
    "    # Calculate the gradient (first derivative) and hessian (second derivative) for MSE\n",
    "    gradient = preds_agg - y_true_agg\n",
    "    hessian = np.ones_like(gradient)\n",
    "\n",
    "    # Reshape gradient and hessian to match the original shape\n",
    "    gradient = np.repeat(gradient, 6)\n",
    "    hessian = np.repeat(hessian, 6)\n",
    "\n",
    "    return gradient, hessian\n",
    "\n",
    "# Example dataset (replace with your actual data)\n",
    "#X_train, X_test, y_train, y_test = # load or create your dataset here\n",
    "\n",
    "# Convert data to DMatrix, which is a data format used by XGBoost\n",
    "dtrain = xgb.DMatrix(X_values, label=y_values_rep)\n",
    "\n",
    "# Set up parameters (these are example parameters, tune for your specific case)\n",
    "params = {'max_depth': 6, 'eta': 0.3}\n",
    "\n",
    "# Train the model\n",
    "model = xgb.train(params, dtrain, obj=seasonal_mse, num_boost_round=100)\n",
    "# num_boost_round is in the case of the Booster interface the same as n_estimators in XGBregressor\n",
    "\n",
    "# Predictions (you will aggregate these later for evaluation)\n",
    "#dpred = xgb.DMatrix(X_test)\n",
    "#preds = model.predict(dpred)"
   ]
  },
  {
   "cell_type": "code",
   "execution_count": 26,
   "id": "9ae799d9-2ec0-4aac-96db-d046d9faec4a",
   "metadata": {},
   "outputs": [
    {
     "data": {
      "text/plain": [
       "<xgboost.core.Booster at 0x19a98811900>"
      ]
     },
     "execution_count": 26,
     "metadata": {},
     "output_type": "execute_result"
    }
   ],
   "source": [
    "model"
   ]
  },
  {
   "cell_type": "code",
   "execution_count": 28,
   "id": "7dddebb0-c04e-4a96-928c-d949a0939463",
   "metadata": {},
   "outputs": [
    {
     "data": {
      "text/plain": [
       "{'best_iteration': '99', 'best_ntree_limit': '100'}"
      ]
     },
     "execution_count": 28,
     "metadata": {},
     "output_type": "execute_result"
    }
   ],
   "source": [
    "model.attributes()"
   ]
  },
  {
   "cell_type": "code",
   "execution_count": 31,
   "id": "c032bc63-80ac-4927-99c8-753b4413e84a",
   "metadata": {},
   "outputs": [
    {
     "data": {
      "text/plain": [
       "{'f0': 212.0, 'f1': 124.0, 'f2': 121.0, 'f3': 186.0}"
      ]
     },
     "execution_count": 31,
     "metadata": {},
     "output_type": "execute_result"
    }
   ],
   "source": [
    "model.get_fscore()"
   ]
  },
  {
   "cell_type": "code",
   "execution_count": 32,
   "id": "9328e0bf-2d8f-47bb-be17-9220248b1894",
   "metadata": {},
   "outputs": [
    {
     "data": {
      "text/plain": [
       "{'f0': 212.0, 'f1': 124.0, 'f2': 121.0, 'f3': 186.0}"
      ]
     },
     "execution_count": 32,
     "metadata": {},
     "output_type": "execute_result"
    }
   ],
   "source": [
    "model.get_score()"
   ]
  },
  {
   "cell_type": "code",
   "execution_count": 61,
   "id": "1d06e73b-629b-46c3-a5c6-2424f5f58435",
   "metadata": {},
   "outputs": [],
   "source": [
    "preds = model.predict(dtrain)"
   ]
  },
  {
   "cell_type": "code",
   "execution_count": 62,
   "id": "62ff23ea-9ce7-4345-b6e3-247a62921847",
   "metadata": {},
   "outputs": [
    {
     "name": "stdout",
     "output_type": "stream",
     "text": [
      "-3.5404155\n"
     ]
    }
   ],
   "source": [
    "print(preds[:6].sum())"
   ]
  },
  {
   "cell_type": "code",
   "execution_count": 63,
   "id": "7dc941a8-3bf1-466f-bcdc-a809035a98d2",
   "metadata": {},
   "outputs": [
    {
     "name": "stdout",
     "output_type": "stream",
     "text": [
      "-3.540521098184869\n"
     ]
    }
   ],
   "source": [
    "print(y_values[0])"
   ]
  },
  {
   "cell_type": "markdown",
   "id": "eec862db-1068-4678-8eba-4b96ccf021bf",
   "metadata": {},
   "source": [
    "## Using Scikit-learn XGBRegressor interface"
   ]
  },
  {
   "cell_type": "code",
   "execution_count": 55,
   "id": "74af3793-ecbc-413d-8096-caee45329be6",
   "metadata": {},
   "outputs": [],
   "source": [
    "\n",
    "# Define a custom objective function for seasonal aggregation\n",
    "def custom_seasonal_obj(y_true, y_pred):\n",
    "    # Reshape the predictions and true values to represent seasons (6 months in this case)\n",
    "    y_pred_seasonal = y_pred.reshape(-1, 6)\n",
    "    y_true_seasonal = y_true.reshape(-1, 6)\n",
    "\n",
    "    # Aggregate predictions and true values over the season\n",
    "    y_pred_agg = np.sum(y_pred_seasonal, axis=1)\n",
    "    y_true_agg = np.mean(y_true_seasonal, axis=1)\n",
    "\n",
    "    # Compute gradients\n",
    "    #grad = (y_pred_agg - y_true_agg).repeat(6) / 6\n",
    "    # Compute Hessians\n",
    "    #hess = np.ones_like(y_true)\n",
    "\n",
    "    # Calculate the gradient (first derivative) and hessian (second derivative) for MSE\n",
    "    grad = y_pred_agg - y_true_agg\n",
    "    hess = np.ones_like(grad)\n",
    "\n",
    "    # Reshape gradient and hessian to match the original shape\n",
    "    grad = np.repeat(grad, 6)\n",
    "    hess = np.repeat(hess, 6)\n",
    "\n",
    "    return grad, hess\n",
    "\n",
    "# Initialize XGBRegressor with the custom objective\n",
    "model_reg = xgb.XGBRegressor(objective=custom_seasonal_obj)\n",
    "\n",
    "# Train the model\n",
    "best_model = model_reg.fit(X_values, y_values_rep)\n",
    "\n",
    "# Make predictions\n",
    "#predictions = model.predict(X_test)\n",
    "\n",
    "# Further code for evaluation, etc.\n",
    "#predictions[:10]  # Display the first few predictions"
   ]
  },
  {
   "cell_type": "code",
   "execution_count": 56,
   "id": "dd44ddf1-2db7-4135-b55e-8b57e936a830",
   "metadata": {},
   "outputs": [
    {
     "data": {
      "text/plain": [
       "array([0.19910096, 0.25051194, 0.29249424, 0.25789285], dtype=float32)"
      ]
     },
     "execution_count": 56,
     "metadata": {},
     "output_type": "execute_result"
    }
   ],
   "source": [
    "best_model.feature_importances_"
   ]
  },
  {
   "cell_type": "code",
   "execution_count": 57,
   "id": "622c0587-5347-40fe-8778-6a617cb5be04",
   "metadata": {},
   "outputs": [],
   "source": [
    "predictions = best_model.predict(X_values)"
   ]
  },
  {
   "cell_type": "code",
   "execution_count": 58,
   "id": "02998a67-1cd3-4cd5-91ac-88cd18e47f32",
   "metadata": {},
   "outputs": [
    {
     "data": {
      "text/plain": [
       "array([-0.9803081 ,  0.07559904, -0.41468713, -1.4404745 , -0.20725927,\n",
       "       -0.57328564, -0.03200315,  0.6866808 ,  0.21791591,  0.12155277],\n",
       "      dtype=float32)"
      ]
     },
     "execution_count": 58,
     "metadata": {},
     "output_type": "execute_result"
    }
   ],
   "source": [
    "predictions[:10]"
   ]
  },
  {
   "cell_type": "code",
   "execution_count": 59,
   "id": "b6943548-849a-48d6-8d6e-0bb39b4433bb",
   "metadata": {},
   "outputs": [
    {
     "name": "stdout",
     "output_type": "stream",
     "text": [
      "-3.5404155\n",
      "-3.540521098184869\n"
     ]
    }
   ],
   "source": [
    "print(predictions[:6].sum())\n",
    "print(y_values[0])\n"
   ]
  },
  {
   "cell_type": "code",
   "execution_count": null,
   "id": "f306fe10-eaba-4fd9-93fc-5945d4ffaea5",
   "metadata": {},
   "outputs": [],
   "source": []
  }
 ],
 "metadata": {
  "kernelspec": {
   "display_name": "Python 3 (ipykernel)",
   "language": "python",
   "name": "python3"
  },
  "language_info": {
   "codemirror_mode": {
    "name": "ipython",
    "version": 3
   },
   "file_extension": ".py",
   "mimetype": "text/x-python",
   "name": "python",
   "nbconvert_exporter": "python",
   "pygments_lexer": "ipython3",
   "version": "3.7.9"
  }
 },
 "nbformat": 4,
 "nbformat_minor": 5
}
