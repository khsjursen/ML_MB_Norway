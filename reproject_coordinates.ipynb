{
 "cells": [
  {
   "cell_type": "code",
   "execution_count": null,
   "id": "769a7daa-d533-4482-b447-b54c30b20d67",
   "metadata": {},
   "outputs": [],
   "source": [
    "# Import libraries\n",
    "import numpy as np\n",
    "import xarray as xr\n",
    "import pandas as pd\n",
    "import geopandas as gpd"
   ]
  },
  {
   "cell_type": "code",
   "execution_count": null,
   "id": "9730be6a-6aa2-40ba-b8a8-228366b0705a",
   "metadata": {},
   "outputs": [],
   "source": [
    "# Specify filepaths and filenames.\n",
    "filepath = '/home/jovyan/ML_MB_Norway_data/'\n",
    "filename = 'stake_mb_norway_cleaned_ids.csv'"
   ]
  },
  {
   "cell_type": "code",
   "execution_count": null,
   "id": "0b2422db-ad66-4922-b417-05a85e7b5303",
   "metadata": {},
   "outputs": [],
   "source": [
    "# Load data.\n",
    "data = pd.read_csv(filepath + filename, sep=';')\n",
    "\n",
    "data\n",
    "data.columns"
   ]
  },
  {
   "cell_type": "code",
   "execution_count": null,
   "id": "918ae501-f91c-4384-bd47-e108da7aa1d9",
   "metadata": {},
   "outputs": [],
   "source": [
    "# Transform UTM coordinates to lat,long (WGS84)\n",
    "\n",
    "from pyproj import Transformer\n",
    "\n",
    "# WGS84 Latitude/Longitude: \"EPSG:4326\"\n",
    "# EUREF89 UTM32: EPSG:25832\n",
    "# EUREF89 UTM33: EPSG:25833\n",
    "# EUREF89 UTM34: EPSG:25834\n",
    "\n",
    "#data_coords = data[['utm_zone','utm_east_approx','utm_north_approx','utm_east','utm_north']]\n",
    "data.loc[:, ('lat')] = np.nan\n",
    "data.loc[:, ('lon')] = np.nan\n",
    "data.loc[:, ('lat_approx')] = np.nan\n",
    "data.loc[:, ('lon_approx')] = np.nan\n",
    "\n",
    "#inProj = Proj('epsg:3857')\n",
    "#outProj = Proj('epsg:4326')\n",
    "#x1,y1 = -11705274.6374,4826473.6922\n",
    "#x2,y2 = transform(inProj,outProj,x1,y1)\n",
    "#print x2,y2\n",
    "\n",
    "# Define output projection.\n",
    "outProj = \"EPSG:4326\"\n",
    "\n",
    "for i in range(data.index.start, data.index.stop):\n",
    " \n",
    "    # Check UTM zone of coordinates and set initial projection.\n",
    "    if data.iloc[i]['utm_zone'] == 34:\n",
    "        inProj = \"EPSG:25834\"\n",
    "    elif data.iloc[i]['utm_zone'] == 33:\n",
    "        inProj = \"EPSG:25833\"\n",
    "    elif data.iloc[i]['utm_zone'] == 32:\n",
    "        inProj = \"EPSG:25832\"\n",
    "    else: \n",
    "        print('UTM zone not recognized.')\n",
    "    \n",
    "    # Define transformer.\n",
    "    transformer = Transformer.from_crs(inProj, outProj, always_xy=True)\n",
    "\n",
    "    # Get UTM coordinates\n",
    "    x,y = data.iloc[i]['utm_east'],data.iloc[i]['utm_north']\n",
    "    x_a,y_a = data.iloc[i]['utm_east_approx'],data.iloc[i]['utm_north_approx']\n",
    "\n",
    "    # Project to lat,lon (WGS84) coordinates\n",
    "    x_p,y_p = transformer.transform(x,y)\n",
    "    x_ap,y_ap = transformer.transform(x_a,y_a)\n",
    "    \n",
    "    # Add to dataframe\n",
    "    data.loc[i, ('lat')] = y_p\n",
    "    data.loc[i, ('lon')] = x_p\n",
    "    data.loc[i, ('lat_approx')] = y_ap\n",
    "    data.loc[i, ('lon_approx')] = x_ap"
   ]
  },
  {
   "cell_type": "code",
   "execution_count": null,
   "id": "43e9c951-0268-4c0d-a1eb-df27a85df68b",
   "metadata": {},
   "outputs": [],
   "source": [
    "data.to_csv(filepath + 'stake_mb_norway_cleaned_ids_latlon.csv', index=False)  \n"
   ]
  },
  {
   "cell_type": "code",
   "execution_count": null,
   "id": "dab129bb-2855-489a-8214-d147e9d7ed52",
   "metadata": {},
   "outputs": [],
   "source": [
    "# Open dataframe with observations and coordinates\n",
    "\n",
    "# Specify filepaths and filenames.\n",
    "filepath = '/home/jovyan/ML_MB_Norway_data/'\n",
    "filename = 'stake_mb_norway_cleaned_ids_latlon.csv'\n",
    "\n",
    "# Load data\n",
    "point_data = pd.read_csv(filepath + filename)#, sep=';')\n",
    "point_data"
   ]
  }
 ],
 "metadata": {
  "kernelspec": {
   "display_name": "Python 3 (ipykernel)",
   "language": "python",
   "name": "python3"
  },
  "language_info": {
   "codemirror_mode": {
    "name": "ipython",
    "version": 3
   },
   "file_extension": ".py",
   "mimetype": "text/x-python",
   "name": "python",
   "nbconvert_exporter": "python",
   "pygments_lexer": "ipython3",
   "version": "3.10.11"
  }
 },
 "nbformat": 4,
 "nbformat_minor": 5
}
