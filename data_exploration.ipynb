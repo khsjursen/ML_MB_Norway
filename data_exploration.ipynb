{
 "cells": [
  {
   "cell_type": "code",
   "execution_count": null,
   "id": "7cfa937f-9c6d-45cc-8c0a-cbd8933df3a8",
   "metadata": {
    "tags": []
   },
   "outputs": [],
   "source": [
    "# Import libraries\n",
    "import numpy as np\n",
    "import xarray as xr\n",
    "import pandas as pd"
   ]
  },
  {
   "cell_type": "code",
   "execution_count": 14,
   "id": "f5128854-1d7a-465f-9faa-f8a51e799ea0",
   "metadata": {
    "tags": []
   },
   "outputs": [],
   "source": [
    "# Specify filepaths and filenames.\n",
    "filepath = '/home/jovyan/shared-public/MLinGlaciology/BYOP/data/point_mb_glaciers_norway/'\n",
    "filename = 'stake_mb_norway_cleaned_ids.csv'"
   ]
  },
  {
   "cell_type": "code",
   "execution_count": 17,
   "id": "6dff4c5c-3bf4-4659-8bad-912b921ff2ad",
   "metadata": {
    "tags": []
   },
   "outputs": [
    {
     "data": {
      "text/plain": [
       "Index(['RGIID', 'GLIMSID', 'BREID', 'utm_zone', 'utm_east_approx',\n",
       "       'utm_north_approx', 'altitude_approx', 'location_description',\n",
       "       'location_id', 'stake_no', 'altitude', 'utm_east', 'utm_north',\n",
       "       'balance_winter', 'balance_summer', 'balance_netto',\n",
       "       'dt_prev_year_min_date', 'dt_curr_year_max_date',\n",
       "       'dt_curr_year_min_date', 'stake_remark', 'flag_correction',\n",
       "       'approx_loc', 'approx_altitude', 'diff_north', 'diff_east',\n",
       "       'diff_altitude', 'diff_netto'],\n",
       "      dtype='object')"
      ]
     },
     "execution_count": 17,
     "metadata": {},
     "output_type": "execute_result"
    }
   ],
   "source": [
    "# Load data.\n",
    "data = pd.read_csv(filepath + filename, sep=';')\n",
    "\n",
    "data\n",
    "data.columns"
   ]
  },
  {
   "cell_type": "code",
   "execution_count": null,
   "id": "b9592651-5dc5-4d07-94ba-fc0273175b38",
   "metadata": {},
   "outputs": [],
   "source": []
  },
  {
   "cell_type": "code",
   "execution_count": null,
   "id": "39aa7bb2-2bdc-4c0b-8c3b-70e06de2bf90",
   "metadata": {
    "tags": []
   },
   "outputs": [],
   "source": [
    "\n"
   ]
  },
  {
   "cell_type": "code",
   "execution_count": null,
   "id": "db2a01bb-0464-4853-98a1-323c90cbffab",
   "metadata": {},
   "outputs": [],
   "source": []
  }
 ],
 "metadata": {
  "kernelspec": {
   "display_name": "IPython - oggm_env",
   "language": "python",
   "name": "oggm_env"
  },
  "language_info": {
   "codemirror_mode": {
    "name": "ipython",
    "version": 3
   },
   "file_extension": ".py",
   "mimetype": "text/x-python",
   "name": "python",
   "nbconvert_exporter": "python",
   "pygments_lexer": "ipython3",
   "version": "3.11.3"
  }
 },
 "nbformat": 4,
 "nbformat_minor": 5
}
